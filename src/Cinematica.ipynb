{
 "cells": [
  {
   "cell_type": "code",
   "execution_count": 59,
   "metadata": {},
   "outputs": [],
   "source": [
    "import sim          # Library for coppelia communication       \n",
    "import sympy as sp  # Library to work with symbolic variables\n",
    "from scipy import optimize\n",
    "import numpy as np\n",
    "import time"
   ]
  },
  {
   "cell_type": "code",
   "execution_count": 29,
   "metadata": {},
   "outputs": [],
   "source": [
    "# Function to calculate symbolic denavit transformations from parameters\n",
    "\n",
    "def symTfromDH(theta, d, a, alpha):\n",
    "\n",
    "    Rz = sp.Matrix([[sp.cos(theta), -sp.sin(theta), 0, 0],\n",
    "                   [sp.sin(theta), sp.cos(theta), 0, 0],\n",
    "                   [0, 0, 1, 0],\n",
    "                   [0, 0, 0, 1]])\n",
    "    tz = sp.Matrix([[1, 0, 0, 0],\n",
    "                   [0, 1, 0, 0],\n",
    "                   [0, 0, 1, d],\n",
    "                   [0, 0, 0, 1]])\n",
    "    ta = sp.Matrix([[1, 0, 0, a],\n",
    "                   [0, 1, 0, 0],\n",
    "                   [0, 0, 1, 0],\n",
    "                   [0, 0, 0, 1]])\n",
    "    Rx = sp.Matrix([[1, 0, 0, 0],\n",
    "                   [0, sp.cos(alpha), -sp.sin(alpha), 0],\n",
    "                   [0, sp.sin(alpha), sp.cos(alpha), 0],\n",
    "                   [0, 0, 0, 1]])\n",
    "    T = Rz*tz*ta*Rx\n",
    "    return T"
   ]
  },
  {
   "cell_type": "markdown",
   "metadata": {},
   "source": [
    "## Calculate Denavit Transformations"
   ]
  },
  {
   "cell_type": "code",
   "execution_count": 50,
   "metadata": {},
   "outputs": [
    {
     "data": {
      "text/latex": [
       "$\\displaystyle \\left[\\begin{matrix}- \\sin{\\left(q_{1} \\right)} \\cos{\\left(q_{2} \\right)} - \\sin{\\left(q_{2} \\right)} \\cos{\\left(q_{1} \\right)} & \\sin{\\left(q_{1} \\right)} \\sin{\\left(q_{2} \\right)} - \\cos{\\left(q_{1} \\right)} \\cos{\\left(q_{2} \\right)} & 0 & l_{1} - 0.5 \\sin{\\left(q_{1} \\right)} \\cos{\\left(q_{2} \\right)} - \\sin{\\left(q_{1} \\right)} - 0.5 \\sin{\\left(q_{2} \\right)} \\cos{\\left(q_{1} \\right)}\\\\0 & 0 & 1 & l_{2}\\\\\\sin{\\left(q_{1} \\right)} \\sin{\\left(q_{2} \\right)} - \\cos{\\left(q_{1} \\right)} \\cos{\\left(q_{2} \\right)} & \\sin{\\left(q_{1} \\right)} \\cos{\\left(q_{2} \\right)} + \\sin{\\left(q_{2} \\right)} \\cos{\\left(q_{1} \\right)} & 0 & 0.5 \\sin{\\left(q_{1} \\right)} \\sin{\\left(q_{2} \\right)} - 0.5 \\cos{\\left(q_{1} \\right)} \\cos{\\left(q_{2} \\right)} - \\cos{\\left(q_{1} \\right)} + 1.5\\\\0 & 0 & 0 & 1\\end{matrix}\\right]$"
      ],
      "text/plain": [
       "Matrix([\n",
       "[-sin(q1)*cos(q2) - sin(q2)*cos(q1), sin(q1)*sin(q2) - cos(q1)*cos(q2), 0,  l1 - 0.5*sin(q1)*cos(q2) - sin(q1) - 0.5*sin(q2)*cos(q1)],\n",
       "[                                 0,                                 0, 1,                                                        l2],\n",
       "[ sin(q1)*sin(q2) - cos(q1)*cos(q2), sin(q1)*cos(q2) + sin(q2)*cos(q1), 0, 0.5*sin(q1)*sin(q2) - 0.5*cos(q1)*cos(q2) - cos(q1) + 1.5],\n",
       "[                                 0,                                 0, 0,                                                         1]])"
      ]
     },
     "execution_count": 50,
     "metadata": {},
     "output_type": "execute_result"
    }
   ],
   "source": [
    "# Robot dimensions\n",
    "L3 = 1.5\n",
    "L4 = 1\n",
    "L5 = 0.5\n",
    "\n",
    "q1 = sp.symbols('q1') # First rotational joint angle\n",
    "q2 = sp.symbols('q2') # Second rotational joint angle\n",
    "l1 = sp.symbols('l1') # First prismatic joint length\n",
    "l2 = sp.symbols('l2') # Second prismatic joint length\n",
    "\n",
    "# Calculated denavit parameters\n",
    "theta = [sp.pi/2,-sp.pi/2, 0 , q1 ,q2]\n",
    "d = [L3,l1,l2,0,0]\n",
    "a = [0,0,0,L4,L5]\n",
    "alpha = [sp.pi/2,-sp.pi/2,0,0,0]\n",
    "\n",
    "# Partial transformations to end effector\n",
    "T01 = symTfromDH(theta[0],d[0],a[0],alpha[0])\n",
    "T12 = symTfromDH(theta[1],d[1],a[1],alpha[1])\n",
    "T23 = symTfromDH(theta[2],d[2],a[2],alpha[2])\n",
    "T34 = symTfromDH(theta[3],d[3],a[3],alpha[3])\n",
    "T45 = symTfromDH(theta[4],d[4],a[4],alpha[4])\n",
    "\n",
    "# Final tranformation\n",
    "T05 = T01*T12*T23*T34*T45\n",
    "T05"
   ]
  },
  {
   "cell_type": "markdown",
   "metadata": {},
   "source": [
    "## Direct Kinematics"
   ]
  },
  {
   "cell_type": "code",
   "execution_count": 51,
   "metadata": {},
   "outputs": [
    {
     "data": {
      "text/latex": [
       "$\\displaystyle \\left[\\begin{matrix}1.0 & 1.0 \\cdot 10^{-678} & 0 & 0.5\\\\0 & 0 & 1.0 & 0\\\\1.0 \\cdot 10^{-678} & -1.0 & 0 & 0.5\\\\0 & 0 & 0 & 1.0\\end{matrix}\\right]$"
      ],
      "text/plain": [
       "Matrix([\n",
       "[    1.0, 0.e-678,   0, 0.5],\n",
       "[      0,       0, 1.0,   0],\n",
       "[0.e-678,    -1.0,   0, 0.5],\n",
       "[      0,       0,   0, 1.0]])"
      ]
     },
     "execution_count": 51,
     "metadata": {},
     "output_type": "execute_result"
    }
   ],
   "source": [
    "# Evaluate end effector transformation\n",
    "\n",
    "values ={      # Limits\n",
    "q1:0,           # (0-2pi)\n",
    "q2:-sp.pi/2,     # (-pi/2,pi/2)\n",
    "l1:0,           # (0,300cm)\n",
    "l2:0           # (0,200cm)\n",
    "}\n",
    "\n",
    "T05.evalf(subs=values)"
   ]
  },
  {
   "cell_type": "code",
   "execution_count": 33,
   "metadata": {},
   "outputs": [],
   "source": [
    "# Function to connect to coppelia simulator\n",
    "\n",
    "def connect(port):\n",
    "    sim.simxFinish(-1) # just in case, close all opened connections\n",
    "    clientID=sim.simxStart('127.0.0.1',port,True,True,2000,5)\n",
    "    if clientID == 0: print(\"conectado a\", port)\n",
    "    else: print(\"no se pudo conectar\")\n",
    "    return clientID"
   ]
  },
  {
   "cell_type": "code",
   "execution_count": 34,
   "metadata": {},
   "outputs": [
    {
     "name": "stdout",
     "output_type": "stream",
     "text": [
      "conectado a 25000\n",
      "[[1.499911904335022, 0.9999945163726807, 0.49993741512298584]]\n"
     ]
    }
   ],
   "source": [
    "# Connection to coppelia \n",
    "clientID = connect(25000)\n",
    "# Get joints and end effector handlers\n",
    "retCode,pjoint0=sim.simxGetObjectHandle(clientID,'pjoint0',sim.simx_opmode_blocking) \n",
    "retCode,pjoint1=sim.simxGetObjectHandle(clientID,'pjoint1',sim.simx_opmode_blocking) \n",
    "retCode,rjoint0=sim.simxGetObjectHandle(clientID,'rjoint0',sim.simx_opmode_blocking) \n",
    "retCode,rjoint1=sim.simxGetObjectHandle(clientID,'rjoint1',sim.simx_opmode_blocking) \n",
    "retCode,end_effector=sim.simxGetObjectHandle(clientID,'EndEffector',sim.simx_opmode_blocking) \n",
    "time.sleep(1)\n",
    "# Read end effector actual position\n",
    "returnCode,ef_pos = sim.simxGetObjectPosition(clientID,end_effector,-1,sim.simx_opmode_blocking) # Read tip position relative to base(-1) in meters\n",
    "print([ef_pos])"
   ]
  },
  {
   "cell_type": "code",
   "execution_count": 58,
   "metadata": {},
   "outputs": [
    {
     "name": "stdout",
     "output_type": "stream",
     "text": [
      "0\n",
      "[[0.7030185461044312, 0.29999998211860657, 9.268522262573242e-06]]\n"
     ]
    }
   ],
   "source": [
    "# Send new values for joints\n",
    "l1 = 0.7\n",
    "l2 = 0.3\n",
    "q1 = -0*sp.pi/180\n",
    "q2 = -0*sp.pi/180\n",
    "retCode = sim.simxSetJointTargetPosition(clientID,pjoint0,l1, sim.simx_opmode_oneshot)\n",
    "retCode = sim.simxSetJointTargetPosition(clientID,pjoint1,l2, sim.simx_opmode_oneshot)\n",
    "retCode = sim.simxSetJointTargetPosition(clientID,rjoint0,q1, sim.simx_opmode_oneshot)\n",
    "retCode = sim.simxSetJointTargetPosition(clientID,rjoint1,q2, sim.simx_opmode_oneshot)\n",
    "print(retCode)\n",
    "\n",
    "# Read new end effector position\n",
    "returnCode,ef_pos = sim.simxGetObjectPosition(clientID,end_effector,-1,sim.simx_opmode_blocking) # Read tip position relative to base(-1) in meters\n",
    "print([ef_pos])"
   ]
  },
  {
   "cell_type": "markdown",
   "metadata": {},
   "source": [
    "## Inverse Kinematics"
   ]
  },
  {
   "cell_type": "code",
   "execution_count": 5,
   "metadata": {},
   "outputs": [
    {
     "data": {
      "text/latex": [
       "$\\displaystyle \\left[\\begin{matrix}- \\sin{\\left(q_{1} \\right)} \\cos{\\left(q_{2} \\right)} - \\sin{\\left(q_{2} \\right)} \\cos{\\left(q_{1} \\right)} & \\sin{\\left(q_{1} \\right)} \\sin{\\left(q_{2} \\right)} - \\cos{\\left(q_{1} \\right)} \\cos{\\left(q_{2} \\right)} & 0 & l_{1} - 50 \\sin{\\left(q_{1} \\right)} \\cos{\\left(q_{2} \\right)} - 100 \\sin{\\left(q_{1} \\right)} - 50 \\sin{\\left(q_{2} \\right)} \\cos{\\left(q_{1} \\right)}\\\\0 & 0 & 1 & l_{2}\\\\\\sin{\\left(q_{1} \\right)} \\sin{\\left(q_{2} \\right)} - \\cos{\\left(q_{1} \\right)} \\cos{\\left(q_{2} \\right)} & \\sin{\\left(q_{1} \\right)} \\cos{\\left(q_{2} \\right)} + \\sin{\\left(q_{2} \\right)} \\cos{\\left(q_{1} \\right)} & 0 & 50 \\sin{\\left(q_{1} \\right)} \\sin{\\left(q_{2} \\right)} - 50 \\cos{\\left(q_{1} \\right)} \\cos{\\left(q_{2} \\right)} - 100 \\cos{\\left(q_{1} \\right)} + 150\\\\0 & 0 & 0 & 1\\end{matrix}\\right]$"
      ],
      "text/plain": [
       "Matrix([\n",
       "[-sin(q1)*cos(q2) - sin(q2)*cos(q1), sin(q1)*sin(q2) - cos(q1)*cos(q2), 0,  l1 - 50*sin(q1)*cos(q2) - 100*sin(q1) - 50*sin(q2)*cos(q1)],\n",
       "[                                 0,                                 0, 1,                                                          l2],\n",
       "[ sin(q1)*sin(q2) - cos(q1)*cos(q2), sin(q1)*cos(q2) + sin(q2)*cos(q1), 0, 50*sin(q1)*sin(q2) - 50*cos(q1)*cos(q2) - 100*cos(q1) + 150],\n",
       "[                                 0,                                 0, 0,                                                           1]])"
      ]
     },
     "execution_count": 5,
     "metadata": {},
     "output_type": "execute_result"
    }
   ],
   "source": [
    "T05"
   ]
  },
  {
   "cell_type": "code",
   "execution_count": 48,
   "metadata": {},
   "outputs": [],
   "source": [
    "# Define end effector postition\n",
    "\n",
    "X = 1\n",
    "Y = 1\n",
    "Z = 0\n",
    "\n",
    "def eqs(q):\n",
    "    q1 = q[0]\n",
    "    q2 = q[1]\n",
    "    l1 = q[2]\n",
    "    l2 = q[2]\n",
    "    f = np.zeros(4)\n",
    "    f[0] = l1-50*np.sin(q1)*np.cos(q2) - 100* np.sin(q1) - 50*np.sin(q2)*np.cos(q1) -X\n",
    "    f[1] = l2 - Y\n",
    "    f[2] = 50*np.sin(q1)*np.sin(q2) - 50*np.cos(q1)*np.cos(q2) - 100*np.cos(q1) + 150 - Z\n",
    "    f[3] = q1\n",
    "    return f\n"
   ]
  },
  {
   "cell_type": "code",
   "execution_count": 49,
   "metadata": {},
   "outputs": [
    {
     "name": "stdout",
     "output_type": "stream",
     "text": [
      "[-2.78159666e-40 -5.79160321e-21  1.00000000e+00  1.37649628e+03]\n"
     ]
    }
   ],
   "source": [
    "q=optimize.fsolve(eqs,[1,1,1,1])\n",
    "print(q)"
   ]
  },
  {
   "cell_type": "code",
   "execution_count": 25,
   "metadata": {},
   "outputs": [
    {
     "name": "stdout",
     "output_type": "stream",
     "text": [
      "calculando la cinemática inversa...\n",
      "Matrix([[0.001280], [-0.001280], [150.1], [150.0]])\n"
     ]
    }
   ],
   "source": [
    "# calculamos la cinemática inversa\n",
    "print(\"calculando la cinemática inversa...\")\n",
    "q = sp.nsolve(eq, (q1,q2,l1,l2), (1,1,1,1), prec=4)\n",
    "print(q)\n",
    "\n"
   ]
  },
  {
   "cell_type": "code",
   "execution_count": null,
   "metadata": {},
   "outputs": [],
   "source": [
    "# Move robot to newly claculated position\n",
    "\n",
    "retCode = sim.simxSetJointTargetPosition(clientID, rjoint1,q[0], sim.simx_opmode_blocking)\n",
    "retCode = sim.simxSetJointTargetPosition(clientID, rjoint0,q[1], sim.simx_opmode_blocking)\n",
    "retCode = sim.simxSetJointTargetPosition(clientID, pjoint0,q[2], sim.simx_opmode_blocking)\n",
    "retCode = sim.simxSetJointTargetPosition(clientID, pjoint1,q[3], sim.simx_opmode_blocking)"
   ]
  }
 ],
 "metadata": {
  "kernelspec": {
   "display_name": "Python 3",
   "language": "python",
   "name": "python3"
  },
  "language_info": {
   "codemirror_mode": {
    "name": "ipython",
    "version": 3
   },
   "file_extension": ".py",
   "mimetype": "text/x-python",
   "name": "python",
   "nbconvert_exporter": "python",
   "pygments_lexer": "ipython3",
   "version": "3.8.5"
  }
 },
 "nbformat": 4,
 "nbformat_minor": 2
}
