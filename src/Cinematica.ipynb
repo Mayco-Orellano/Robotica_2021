{
 "cells": [
  {
   "cell_type": "code",
   "execution_count": 2,
   "metadata": {},
   "outputs": [],
   "source": [
    "# importamos las librerías necesarias\n",
    "import sim          # librería para conectar con CoppeliaSim\n",
    "import sympy as sp  # librería para cálculo simbólico\n",
    "import numpy as np"
   ]
  },
  {
   "cell_type": "code",
   "execution_count": null,
   "metadata": {},
   "outputs": [],
   "source": [
    "# Comenzaremos el trabajo desde la descripción de Denavit-Hartenberg para el robot\n",
    "#      theta     |      d      |      a      |    alpha\n",
    "# ---------------------------------------------------------\n",
    "#      q1        |    0.302    |    0.467    |     0\n",
    "#      q2        |    -0.01    |    0.4005   |    180\n",
    "#      0         |      q3     |     0       |     0\n",
    "#      q4        |      0      |     0       |    180\n",
    "# ---------------------------------------------------------\n",
    "#      0         |    -0.058   |     0       |     0"
   ]
  },
  {
   "cell_type": "code",
   "execution_count": null,
   "metadata": {},
   "outputs": [],
   "source": [
    "# Definimos una función para construir las matrices de transformación\n",
    "# en forma simbóĺica a partir de los parámetros D-H\n",
    "\n",
    "def symTfromDH(theta, d, a, alpha):\n",
    "    # theta y alpha en radianes\n",
    "    # d y a en metros\n",
    "    Rz = sp.Matrix([[sp.cos(theta), -sp.sin(theta), 0, 0],\n",
    "                   [sp.sin(theta), sp.cos(theta), 0, 0],\n",
    "                   [0, 0, 1, 0],\n",
    "                   [0, 0, 0, 1]])\n",
    "    tz = sp.Matrix([[1, 0, 0, 0],\n",
    "                   [0, 1, 0, 0],\n",
    "                   [0, 0, 1, d],\n",
    "                   [0, 0, 0, 1]])\n",
    "    ta = sp.Matrix([[1, 0, 0, a],\n",
    "                   [0, 1, 0, 0],\n",
    "                   [0, 0, 1, 0],\n",
    "                   [0, 0, 0, 1]])\n",
    "    Rx = sp.Matrix([[1, 0, 0, 0],\n",
    "                   [0, sp.cos(alpha), -sp.sin(alpha), 0],\n",
    "                   [0, sp.sin(alpha), sp.cos(alpha), 0],\n",
    "                   [0, 0, 0, 1]])\n",
    "    T = Rz*tz*ta*Rx\n",
    "    return T"
   ]
  },
  {
   "cell_type": "code",
   "execution_count": null,
   "metadata": {},
   "outputs": [],
   "source": [
    "L3 = 150\n",
    "L4 = 100\n",
    "L5 = 50\n",
    "\n",
    "l1 = 150 # (0,300)\n",
    "l2 = 50 # (0,200)\n",
    "q1 = sp.pi # (0,2pi)\n",
    "q2 = sp.pi/2 # (-pi/2 , pi/2)\n",
    "\n",
    "theta = [sp.pi/2,-sp.pi/2, 0 , q1 ,q2]\n",
    "d = [L3,l1,l2,0,0]\n",
    "a = [0,0,0,L4,L5]\n",
    "alpha = [sp.pi/2,-sp.pi/2,0,0,0]\n",
    "\n",
    "T01 = symTfromDH(theta[0],d[0],a[0],alpha[0])\n",
    "T12 = symTfromDH(theta[1],d[1],a[1],alpha[1])\n",
    "T23 = symTfromDH(theta[2],d[2],a[2],alpha[2])\n",
    "T34 = symTfromDH(theta[3],d[3],a[3],alpha[3])\n",
    "T45 = symTfromDH(theta[4],d[4],a[4],alpha[4])\n",
    "\n",
    "T05 = T01*T12*T23*T34*T45\n",
    "print(T05)"
   ]
  },
  {
   "cell_type": "code",
   "execution_count": null,
   "metadata": {},
   "outputs": [],
   "source": [
    "# Definimos un punto de destino\n",
    "x = 0.5\n",
    "y = 0.5\n",
    "z = 0.1"
   ]
  },
  {
   "cell_type": "code",
   "execution_count": null,
   "metadata": {},
   "outputs": [],
   "source": [
    "# preparamos las ecuaciones transformando las expresiones\n",
    "# de la forma <expresion = valor> a la forma <expresion - valor> = 0\n"
   ]
  },
  {
   "cell_type": "code",
   "execution_count": null,
   "metadata": {},
   "outputs": [],
   "source": [
    "def connect(port):\n",
    "# Establece la conexión a VREP\n",
    "# port debe coincidir con el puerto de conexión en VREP\n",
    "# retorna el número de cliente o -1 si no puede establecer conexión\n",
    "    sim.simxFinish(-1) # just in case, close all opened connections\n",
    "    clientID=sim.simxStart('127.0.0.1',port,True,True,2000,5) # Conectarse\n",
    "    if clientID == 0: print(\"conectado a\", port)\n",
    "    else: print(\"no se pudo conectar\")\n",
    "    return clientID"
   ]
  },
  {
   "cell_type": "code",
   "execution_count": 88,
   "metadata": {},
   "outputs": [
    {
     "name": "stdout",
     "output_type": "stream",
     "text": [
      "conectado a 25000\n"
     ]
    }
   ],
   "source": [
    "# Requerimos los manejadores para las articulaciones\n",
    "clientID = connect(25000)\n",
    "\n",
    "retCode,pjoint0=sim.simxGetObjectHandle(clientID,'pjoint0',sim.simx_opmode_blocking) \n",
    "retCode,pjoint1=sim.simxGetObjectHandle(clientID,'pjoint1',sim.simx_opmode_blocking) \n",
    "retCode,rjoint0=sim.simxGetObjectHandle(clientID,'rjoint0',sim.simx_opmode_blocking) \n",
    "retCode,rjoint1=sim.simxGetObjectHandle(clientID,'rjoint1',sim.simx_opmode_blocking) \n",
    "retCode,end_effector=sim.simxGetObjectHandle(clientID,'EndEffector',sim.simx_opmode_blocking) \n",
    "\n",
    "# Lectura posicion del efector final\n",
    "\n"
   ]
  },
  {
   "cell_type": "code",
   "execution_count": 93,
   "metadata": {},
   "outputs": [
    {
     "name": "stdout",
     "output_type": "stream",
     "text": [
      "0\n",
      "[[0.5047889947891235, 1.0000088214874268, 0.4954685568809509]]\n"
     ]
    }
   ],
   "source": [
    "# Enviamos las posiciones a las articulaciones\n",
    "l1 = 1\n",
    "l2 = 1\n",
    "q1 = 0*sp.pi/180\n",
    "q2 = 90*sp.pi/180\n",
    "retCode = sim.simxSetJointTargetPosition(clientID,pjoint0,l1, sim.simx_opmode_oneshot)\n",
    "retCode = sim.simxSetJointTargetPosition(clientID,pjoint1,l2, sim.simx_opmode_oneshot)\n",
    "retCode = sim.simxSetJointTargetPosition(clientID,rjoint0,q1, sim.simx_opmode_oneshot)\n",
    "retCode = sim.simxSetJointTargetPosition(clientID,rjoint1,q2, sim.simx_opmode_oneshot)\n",
    "print(retCode) # 0 Ok\n",
    "\n",
    "returnCode,ef_pos = sim.simxGetObjectPosition(clientID,end_effector,-1,sim.simx_opmode_blocking) # Read tip position relative to base(-1) in meters\n",
    "print([ef_pos])"
   ]
  }
 ],
 "metadata": {
  "kernelspec": {
   "display_name": "Python 3",
   "language": "python",
   "name": "python3"
  },
  "language_info": {
   "codemirror_mode": {
    "name": "ipython",
    "version": 3
   },
   "file_extension": ".py",
   "mimetype": "text/x-python",
   "name": "python",
   "nbconvert_exporter": "python",
   "pygments_lexer": "ipython3",
   "version": "3.8.5"
  }
 },
 "nbformat": 4,
 "nbformat_minor": 2
}
