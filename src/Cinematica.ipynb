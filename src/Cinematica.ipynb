{
 "cells": [
  {
   "cell_type": "code",
   "execution_count": 2,
   "metadata": {},
   "outputs": [],
   "source": [
    "import sim          # Library for coppelia communication       \n",
    "import sympy as sp  # Library to work with symbolic variables"
   ]
  },
  {
   "cell_type": "code",
   "execution_count": 3,
   "metadata": {},
   "outputs": [],
   "source": [
    "# Function to calculate symbolic denavit transformations from parameters\n",
    "\n",
    "def symTfromDH(theta, d, a, alpha):\n",
    "\n",
    "    Rz = sp.Matrix([[sp.cos(theta), -sp.sin(theta), 0, 0],\n",
    "                   [sp.sin(theta), sp.cos(theta), 0, 0],\n",
    "                   [0, 0, 1, 0],\n",
    "                   [0, 0, 0, 1]])\n",
    "    tz = sp.Matrix([[1, 0, 0, 0],\n",
    "                   [0, 1, 0, 0],\n",
    "                   [0, 0, 1, d],\n",
    "                   [0, 0, 0, 1]])\n",
    "    ta = sp.Matrix([[1, 0, 0, a],\n",
    "                   [0, 1, 0, 0],\n",
    "                   [0, 0, 1, 0],\n",
    "                   [0, 0, 0, 1]])\n",
    "    Rx = sp.Matrix([[1, 0, 0, 0],\n",
    "                   [0, sp.cos(alpha), -sp.sin(alpha), 0],\n",
    "                   [0, sp.sin(alpha), sp.cos(alpha), 0],\n",
    "                   [0, 0, 0, 1]])\n",
    "    T = Rz*tz*ta*Rx\n",
    "    return T"
   ]
  },
  {
   "cell_type": "markdown",
   "metadata": {},
   "source": [
    "## Calculate Denavit Transformations"
   ]
  },
  {
   "cell_type": "code",
   "execution_count": 4,
   "metadata": {},
   "outputs": [
    {
     "data": {
      "text/latex": [
       "$\\displaystyle \\left[\\begin{matrix}- \\sin{\\left(q_{1} \\right)} \\cos{\\left(q_{2} \\right)} - \\sin{\\left(q_{2} \\right)} \\cos{\\left(q_{1} \\right)} & \\sin{\\left(q_{1} \\right)} \\sin{\\left(q_{2} \\right)} - \\cos{\\left(q_{1} \\right)} \\cos{\\left(q_{2} \\right)} & 0 & l_{1} - 50 \\sin{\\left(q_{1} \\right)} \\cos{\\left(q_{2} \\right)} - 100 \\sin{\\left(q_{1} \\right)} - 50 \\sin{\\left(q_{2} \\right)} \\cos{\\left(q_{1} \\right)}\\\\0 & 0 & 1 & l_{2}\\\\\\sin{\\left(q_{1} \\right)} \\sin{\\left(q_{2} \\right)} - \\cos{\\left(q_{1} \\right)} \\cos{\\left(q_{2} \\right)} & \\sin{\\left(q_{1} \\right)} \\cos{\\left(q_{2} \\right)} + \\sin{\\left(q_{2} \\right)} \\cos{\\left(q_{1} \\right)} & 0 & 50 \\sin{\\left(q_{1} \\right)} \\sin{\\left(q_{2} \\right)} - 50 \\cos{\\left(q_{1} \\right)} \\cos{\\left(q_{2} \\right)} - 100 \\cos{\\left(q_{1} \\right)} + 150\\\\0 & 0 & 0 & 1\\end{matrix}\\right]$"
      ],
      "text/plain": [
       "Matrix([\n",
       "[-sin(q1)*cos(q2) - sin(q2)*cos(q1), sin(q1)*sin(q2) - cos(q1)*cos(q2), 0,  l1 - 50*sin(q1)*cos(q2) - 100*sin(q1) - 50*sin(q2)*cos(q1)],\n",
       "[                                 0,                                 0, 1,                                                          l2],\n",
       "[ sin(q1)*sin(q2) - cos(q1)*cos(q2), sin(q1)*cos(q2) + sin(q2)*cos(q1), 0, 50*sin(q1)*sin(q2) - 50*cos(q1)*cos(q2) - 100*cos(q1) + 150],\n",
       "[                                 0,                                 0, 0,                                                           1]])"
      ]
     },
     "execution_count": 4,
     "metadata": {},
     "output_type": "execute_result"
    }
   ],
   "source": [
    "# Robot dimensions\n",
    "L3 = 150\n",
    "L4 = 100\n",
    "L5 = 50\n",
    "\n",
    "q1 = sp.symbols('q1') # First rotational joint angle\n",
    "q2 = sp.symbols('q2') # Second rotational joint angle\n",
    "l1 = sp.symbols('l1') # First prismatic joint length\n",
    "l2 = sp.symbols('l2') # Second prismatic joint length\n",
    "\n",
    "# Calculated denavit parameters\n",
    "theta = [sp.pi/2,-sp.pi/2, 0 , q1 ,q2]\n",
    "d = [L3,l1,l2,0,0]\n",
    "a = [0,0,0,L4,L5]\n",
    "alpha = [sp.pi/2,-sp.pi/2,0,0,0]\n",
    "\n",
    "# Partial transformations to end effector\n",
    "T01 = symTfromDH(theta[0],d[0],a[0],alpha[0])\n",
    "T12 = symTfromDH(theta[1],d[1],a[1],alpha[1])\n",
    "T23 = symTfromDH(theta[2],d[2],a[2],alpha[2])\n",
    "T34 = symTfromDH(theta[3],d[3],a[3],alpha[3])\n",
    "T45 = symTfromDH(theta[4],d[4],a[4],alpha[4])\n",
    "\n",
    "# Final tranformation\n",
    "T05 = T01*T12*T23*T34*T45\n",
    "T05"
   ]
  },
  {
   "cell_type": "markdown",
   "metadata": {},
   "source": [
    "## Direct Kinematics"
   ]
  },
  {
   "cell_type": "code",
   "execution_count": 50,
   "metadata": {},
   "outputs": [
    {
     "data": {
      "text/latex": [
       "$\\displaystyle \\left[\\begin{matrix}-1.0 & 1.0 \\cdot 10^{-678} & 0 & -50.0\\\\0 & 0 & 1.0 & 0\\\\1.0 \\cdot 10^{-678} & 1.0 & 0 & 50.0\\\\0 & 0 & 0 & 1.0\\end{matrix}\\right]$"
      ],
      "text/plain": [
       "Matrix([\n",
       "[   -1.0, 0.e-678,   0, -50.0],\n",
       "[      0,       0, 1.0,     0],\n",
       "[0.e-678,     1.0,   0,  50.0],\n",
       "[      0,       0,   0,   1.0]])"
      ]
     },
     "execution_count": 50,
     "metadata": {},
     "output_type": "execute_result"
    }
   ],
   "source": [
    "# Evaluate end effector transformation\n",
    "\n",
    "values ={      # Limits\n",
    "q1:0,           # (0-2pi)\n",
    "q2:sp.pi/2,     # (-pi/2,pi/2)\n",
    "l1:0,           # (0,300cm)\n",
    "l2:0           # (0,200cm)\n",
    "}\n",
    "\n",
    "T05.evalf(subs=values)"
   ]
  },
  {
   "cell_type": "code",
   "execution_count": 3,
   "metadata": {},
   "outputs": [],
   "source": [
    "# Function to connect to coppelia simulator\n",
    "\n",
    "def connect(port):\n",
    "    sim.simxFinish(-1) # just in case, close all opened connections\n",
    "    clientID=sim.simxStart('127.0.0.1',port,True,True,2000,5)\n",
    "    if clientID == 0: print(\"conectado a\", port)\n",
    "    else: print(\"no se pudo conectar\")\n",
    "    return clientID"
   ]
  },
  {
   "cell_type": "code",
   "execution_count": 6,
   "metadata": {},
   "outputs": [
    {
     "name": "stdout",
     "output_type": "stream",
     "text": [
      "conectado a 25000\n",
      "[[1.49540376663208, 0.9999954700469971, 0.4977395534515381]]\n"
     ]
    }
   ],
   "source": [
    "# Connection to coppelia \n",
    "clientID = connect(25000)\n",
    "# Get joints and end effector handlers\n",
    "retCode,pjoint0=sim.simxGetObjectHandle(clientID,'pjoint0',sim.simx_opmode_blocking) \n",
    "retCode,pjoint1=sim.simxGetObjectHandle(clientID,'pjoint1',sim.simx_opmode_blocking) \n",
    "retCode,rjoint0=sim.simxGetObjectHandle(clientID,'rjoint0',sim.simx_opmode_blocking) \n",
    "retCode,rjoint1=sim.simxGetObjectHandle(clientID,'rjoint1',sim.simx_opmode_blocking) \n",
    "retCode,end_effector=sim.simxGetObjectHandle(clientID,'EndEffector',sim.simx_opmode_blocking) \n",
    "\n",
    "# Read end effector actual position\n",
    "returnCode,ef_pos = sim.simxGetObjectPosition(clientID,end_effector,-1,sim.simx_opmode_blocking) # Read tip position relative to base(-1) in meters\n",
    "print([ef_pos])"
   ]
  },
  {
   "cell_type": "code",
   "execution_count": 4,
   "metadata": {},
   "outputs": [
    {
     "ename": "NameError",
     "evalue": "name 'clientID' is not defined",
     "output_type": "error",
     "traceback": [
      "\u001b[0;31m---------------------------------------------------------------------------\u001b[0m",
      "\u001b[0;31mNameError\u001b[0m                                 Traceback (most recent call last)",
      "\u001b[0;32m/tmp/ipykernel_48202/139377254.py\u001b[0m in \u001b[0;36m<module>\u001b[0;34m\u001b[0m\n\u001b[1;32m      4\u001b[0m \u001b[0mq1\u001b[0m \u001b[0;34m=\u001b[0m \u001b[0;34m-\u001b[0m\u001b[0;36m45\u001b[0m\u001b[0;34m*\u001b[0m\u001b[0msp\u001b[0m\u001b[0;34m.\u001b[0m\u001b[0mpi\u001b[0m\u001b[0;34m/\u001b[0m\u001b[0;36m180\u001b[0m\u001b[0;34m\u001b[0m\u001b[0;34m\u001b[0m\u001b[0m\n\u001b[1;32m      5\u001b[0m \u001b[0mq2\u001b[0m \u001b[0;34m=\u001b[0m \u001b[0;34m-\u001b[0m\u001b[0;36m40\u001b[0m\u001b[0;34m*\u001b[0m\u001b[0msp\u001b[0m\u001b[0;34m.\u001b[0m\u001b[0mpi\u001b[0m\u001b[0;34m/\u001b[0m\u001b[0;36m180\u001b[0m\u001b[0;34m\u001b[0m\u001b[0;34m\u001b[0m\u001b[0m\n\u001b[0;32m----> 6\u001b[0;31m \u001b[0mretCode\u001b[0m \u001b[0;34m=\u001b[0m \u001b[0msim\u001b[0m\u001b[0;34m.\u001b[0m\u001b[0msimxSetJointTargetPosition\u001b[0m\u001b[0;34m(\u001b[0m\u001b[0mclientID\u001b[0m\u001b[0;34m,\u001b[0m\u001b[0mpjoint0\u001b[0m\u001b[0;34m,\u001b[0m\u001b[0ml1\u001b[0m\u001b[0;34m,\u001b[0m \u001b[0msim\u001b[0m\u001b[0;34m.\u001b[0m\u001b[0msimx_opmode_oneshot\u001b[0m\u001b[0;34m)\u001b[0m\u001b[0;34m\u001b[0m\u001b[0;34m\u001b[0m\u001b[0m\n\u001b[0m\u001b[1;32m      7\u001b[0m \u001b[0mretCode\u001b[0m \u001b[0;34m=\u001b[0m \u001b[0msim\u001b[0m\u001b[0;34m.\u001b[0m\u001b[0msimxSetJointTargetPosition\u001b[0m\u001b[0;34m(\u001b[0m\u001b[0mclientID\u001b[0m\u001b[0;34m,\u001b[0m\u001b[0mpjoint1\u001b[0m\u001b[0;34m,\u001b[0m\u001b[0ml2\u001b[0m\u001b[0;34m,\u001b[0m \u001b[0msim\u001b[0m\u001b[0;34m.\u001b[0m\u001b[0msimx_opmode_oneshot\u001b[0m\u001b[0;34m)\u001b[0m\u001b[0;34m\u001b[0m\u001b[0;34m\u001b[0m\u001b[0m\n\u001b[1;32m      8\u001b[0m \u001b[0mretCode\u001b[0m \u001b[0;34m=\u001b[0m \u001b[0msim\u001b[0m\u001b[0;34m.\u001b[0m\u001b[0msimxSetJointTargetPosition\u001b[0m\u001b[0;34m(\u001b[0m\u001b[0mclientID\u001b[0m\u001b[0;34m,\u001b[0m\u001b[0mrjoint0\u001b[0m\u001b[0;34m,\u001b[0m\u001b[0mq1\u001b[0m\u001b[0;34m,\u001b[0m \u001b[0msim\u001b[0m\u001b[0;34m.\u001b[0m\u001b[0msimx_opmode_oneshot\u001b[0m\u001b[0;34m)\u001b[0m\u001b[0;34m\u001b[0m\u001b[0;34m\u001b[0m\u001b[0m\n",
      "\u001b[0;31mNameError\u001b[0m: name 'clientID' is not defined"
     ]
    }
   ],
   "source": [
    "# Send new values for joints\n",
    "l1 = 0.5\n",
    "l2 = 0.5\n",
    "q1 = -45*sp.pi/180\n",
    "q2 = -40*sp.pi/180\n",
    "retCode = sim.simxSetJointTargetPosition(clientID,pjoint0,l1, sim.simx_opmode_oneshot)\n",
    "retCode = sim.simxSetJointTargetPosition(clientID,pjoint1,l2, sim.simx_opmode_oneshot)\n",
    "retCode = sim.simxSetJointTargetPosition(clientID,rjoint0,q1, sim.simx_opmode_oneshot)\n",
    "retCode = sim.simxSetJointTargetPosition(clientID,rjoint1,q2, sim.simx_opmode_oneshot)\n",
    "print(retCode)\n",
    "\n",
    "# Read new end effector position\n",
    "returnCode,ef_pos = sim.simxGetObjectPosition(clientID,end_effector,-1,sim.simx_opmode_blocking) # Read tip position relative to base(-1) in meters\n",
    "print([ef_pos])"
   ]
  },
  {
   "cell_type": "markdown",
   "metadata": {},
   "source": [
    "## Inverse Kinematics"
   ]
  },
  {
   "cell_type": "code",
   "execution_count": 5,
   "metadata": {},
   "outputs": [
    {
     "data": {
      "text/latex": [
       "$\\displaystyle \\left[\\begin{matrix}- \\sin{\\left(q_{1} \\right)} \\cos{\\left(q_{2} \\right)} - \\sin{\\left(q_{2} \\right)} \\cos{\\left(q_{1} \\right)} & \\sin{\\left(q_{1} \\right)} \\sin{\\left(q_{2} \\right)} - \\cos{\\left(q_{1} \\right)} \\cos{\\left(q_{2} \\right)} & 0 & l_{1} - 50 \\sin{\\left(q_{1} \\right)} \\cos{\\left(q_{2} \\right)} - 100 \\sin{\\left(q_{1} \\right)} - 50 \\sin{\\left(q_{2} \\right)} \\cos{\\left(q_{1} \\right)}\\\\0 & 0 & 1 & l_{2}\\\\\\sin{\\left(q_{1} \\right)} \\sin{\\left(q_{2} \\right)} - \\cos{\\left(q_{1} \\right)} \\cos{\\left(q_{2} \\right)} & \\sin{\\left(q_{1} \\right)} \\cos{\\left(q_{2} \\right)} + \\sin{\\left(q_{2} \\right)} \\cos{\\left(q_{1} \\right)} & 0 & 50 \\sin{\\left(q_{1} \\right)} \\sin{\\left(q_{2} \\right)} - 50 \\cos{\\left(q_{1} \\right)} \\cos{\\left(q_{2} \\right)} - 100 \\cos{\\left(q_{1} \\right)} + 150\\\\0 & 0 & 0 & 1\\end{matrix}\\right]$"
      ],
      "text/plain": [
       "Matrix([\n",
       "[-sin(q1)*cos(q2) - sin(q2)*cos(q1), sin(q1)*sin(q2) - cos(q1)*cos(q2), 0,  l1 - 50*sin(q1)*cos(q2) - 100*sin(q1) - 50*sin(q2)*cos(q1)],\n",
       "[                                 0,                                 0, 1,                                                          l2],\n",
       "[ sin(q1)*sin(q2) - cos(q1)*cos(q2), sin(q1)*cos(q2) + sin(q2)*cos(q1), 0, 50*sin(q1)*sin(q2) - 50*cos(q1)*cos(q2) - 100*cos(q1) + 150],\n",
       "[                                 0,                                 0, 0,                                                           1]])"
      ]
     },
     "execution_count": 5,
     "metadata": {},
     "output_type": "execute_result"
    }
   ],
   "source": [
    "T05"
   ]
  },
  {
   "cell_type": "code",
   "execution_count": 24,
   "metadata": {},
   "outputs": [
    {
     "name": "stdout",
     "output_type": "stream",
     "text": [
      "(l1 - 50*sin(q1)*cos(q2) - 100*sin(q1) - 50*sin(q2)*cos(q1) - 150, l2 - 150, 50*sin(q1)*sin(q2) - 50*cos(q1)*cos(q2) - 100*cos(q1) + 150, q1 + q2)\n"
     ]
    }
   ],
   "source": [
    "# Define end effector postition\n",
    "x = 150\n",
    "y = 150\n",
    "z = 20\n",
    "\n",
    "eqx = T05[3] - x\n",
    "eqy = T05[7] - y\n",
    "eqz = T05[11] - z\n",
    "eq_or = q1+q2 # orientation of end effector \n",
    "\n",
    "\n",
    "eq = (eqx,eqy,eqz,eq_or)\n",
    "print(eq)"
   ]
  },
  {
   "cell_type": "code",
   "execution_count": 18,
   "metadata": {},
   "outputs": [
    {
     "data": {
      "text/latex": [
       "$\\displaystyle l_{2}$"
      ],
      "text/plain": [
       "l2"
      ]
     },
     "execution_count": 18,
     "metadata": {},
     "output_type": "execute_result"
    }
   ],
   "source": [
    "eqy"
   ]
  },
  {
   "cell_type": "code",
   "execution_count": 25,
   "metadata": {},
   "outputs": [
    {
     "name": "stdout",
     "output_type": "stream",
     "text": [
      "calculando la cinemática inversa...\n",
      "Matrix([[0.001280], [-0.001280], [150.1], [150.0]])\n"
     ]
    }
   ],
   "source": [
    "# calculamos la cinemática inversa\n",
    "print(\"calculando la cinemática inversa...\")\n",
    "q = sp.nsolve(eq, (q1,q2,l1,l2), (1,1,1,1), prec=4)\n",
    "print(q)\n",
    "\n"
   ]
  },
  {
   "cell_type": "code",
   "execution_count": null,
   "metadata": {},
   "outputs": [],
   "source": [
    "# Move robot to newly claculated position\n",
    "\n",
    "retCode = sim.simxSetJointTargetPosition(clientID, rjoint1,q[0], sim.simx_opmode_blocking)\n",
    "retCode = sim.simxSetJointTargetPosition(clientID, rjoint0,q[1], sim.simx_opmode_blocking)\n",
    "retCode = sim.simxSetJointTargetPosition(clientID, pjoint0,q[2], sim.simx_opmode_blocking)\n",
    "retCode = sim.simxSetJointTargetPosition(clientID, pjoint1,q[3], sim.simx_opmode_blocking)"
   ]
  }
 ],
 "metadata": {
  "kernelspec": {
   "display_name": "Python 3",
   "language": "python",
   "name": "python3"
  },
  "language_info": {
   "codemirror_mode": {
    "name": "ipython",
    "version": 3
   },
   "file_extension": ".py",
   "mimetype": "text/x-python",
   "name": "python",
   "nbconvert_exporter": "python",
   "pygments_lexer": "ipython3",
   "version": "3.8.5"
  }
 },
 "nbformat": 4,
 "nbformat_minor": 2
}
